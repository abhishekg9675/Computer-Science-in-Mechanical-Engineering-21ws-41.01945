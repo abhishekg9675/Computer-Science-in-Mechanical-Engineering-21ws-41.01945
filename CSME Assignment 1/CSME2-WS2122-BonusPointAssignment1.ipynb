{
 "cells": [
  {
   "cell_type": "markdown",
   "metadata": {},
   "source": [
    "# CSME2 Bonus Point Assignment 1\n",
    "\n",
    "<div style=\"text-align: right;font-size: 0.8em\">Document Version 1.0.2, released 04/12/2021</div>\n",
    "For detailed task instructions, please refer to the assignment PDF.\n",
    "\n",
    "DO NOT CLEAR THE OUTPUT of the notebook you are submitting!"
   ]
  },
  {
   "cell_type": "code",
   "execution_count": 4,
   "metadata": {},
   "outputs": [
    {
     "ename": "SyntaxError",
     "evalue": "invalid syntax (<ipython-input-4-40e196adcd8e>, line 2)",
     "output_type": "error",
     "traceback": [
      "\u001b[0;36m  File \u001b[0;32m\"<ipython-input-4-40e196adcd8e>\"\u001b[0;36m, line \u001b[0;32m2\u001b[0m\n\u001b[0;31m    pip install sklearn\u001b[0m\n\u001b[0m              ^\u001b[0m\n\u001b[0;31mSyntaxError\u001b[0m\u001b[0;31m:\u001b[0m invalid syntax\n"
     ]
    }
   ],
   "source": [
    "#pip install scipy\n",
    "#pip install sklearn\n",
    "#pip install -U scikit-learn"
   ]
  },
  {
   "cell_type": "code",
   "execution_count": 103,
   "metadata": {},
   "outputs": [],
   "source": [
    "# Add any additional import you need in this cell\n",
    "import numpy as np\n",
    "import sklearn\n",
    "from sklearn.cluster import kmeans_plusplus, KMeans\n",
    "import sklearn\n",
    "sklearn.__version__\n",
    "\n",
    "from scipy import io\n",
    "from numpy.random import choice\n",
    "import matplotlib.pyplot as plt\n",
    "import math\n",
    "from scipy.interpolate import Rbf\n",
    "\n",
    "\n",
    "\n",
    "np.random.seed(1234)\n",
    "trainSplitPercent=0.8 #Percentage of Train-Validation Set Split"
   ]
  },
  {
   "cell_type": "markdown",
   "metadata": {},
   "source": [
    "### Setup\n",
    "__Task A.1__ Load the data into the following numpy arrays. For the output, only use the first torque variable.\n",
    "Randomly split the data from the file ```sarcos_inv.mat``` into a training set (80%) and a validation set (20%)."
   ]
  },
  {
   "cell_type": "code",
   "execution_count": 112,
   "metadata": {},
   "outputs": [],
   "source": [
    "# Input and output training data\n",
    "# xs_train = \n",
    "# ys_train = \n",
    "\n",
    "# Input and output validation data\n",
    "# xs_valid = \n",
    "# ys_valid =\n",
    "\n",
    "# Input and output test data\n",
    "# xs_test = \n",
    "# ys_test = \n",
    "\n",
    "trainData = io.loadmat('sarcos_inv')  # ... or load existing dataset\n",
    "testData = io.loadmat('sarcos_inv_test')  # ... or load existing dataset\n",
    "\n",
    "xTrainData=trainData['sarcos_inv'][:,0:21]\n",
    "yTrainData=trainData['sarcos_inv'][:,21:22]\n",
    "\n",
    "N = len(xTrainData)\n",
    "nTrain = round(N * trainSplitPercent)\n",
    "pos_array = np.random.choice(N, nTrain, False)\n",
    "allpos_array = range(N)\n",
    "restpos_array = np.setdiff1d(allpos_array, pos_array)\n",
    "\n",
    "xs_train = xTrainData[pos_array]\n",
    "ys_train = yTrainData[pos_array]\n",
    "xs_valid = xTrainData[restpos_array]\n",
    "ys_valid = yTrainData[restpos_array]\n",
    "\n",
    "xs_test=testData['sarcos_inv_test'][:,0:21]\n",
    "ys_test=testData['sarcos_inv_test'][:,21:22]\n"
   ]
  },
  {
   "cell_type": "code",
   "execution_count": 113,
   "metadata": {},
   "outputs": [
    {
     "name": "stdout",
     "output_type": "stream",
     "text": [
      "(35587, 21)\n",
      "(35587, 1)\n",
      "(8897, 21)\n",
      "(8897, 1)\n",
      "(4449, 21)\n",
      "(4449, 1)\n"
     ]
    }
   ],
   "source": [
    "# Check for yourself \n",
    "# The following should lead (roughly) to output \n",
    "# (35587, 21)\n",
    "# (35587, 1)\n",
    "# (8897, 21)\n",
    "# (8897, 1)\n",
    "# (4449, 21)\n",
    "# (4449, 1)\n",
    "\n",
    "print(xs_train.shape)\n",
    "print(ys_train.shape)\n",
    "print(xs_valid.shape)\n",
    "print(ys_valid.shape)\n",
    "print(xs_test.shape)\n",
    "print(ys_test.shape)"
   ]
  },
  {
   "cell_type": "markdown",
   "metadata": {},
   "source": [
    "__Task A.2__ Standardize the data such that\n",
    "1. Training inputs have mean 0\n",
    "2. Each training input variable has variance 1\n",
    "3. The training outputs have mean 0\n",
    "4. Apply the same transformation to the validation and test data\n",
    "\n",
    "Implement this manually, i.e., do not use a ready scaler like the one provided by scikit-learn."
   ]
  },
  {
   "cell_type": "code",
   "execution_count": 117,
   "metadata": {},
   "outputs": [],
   "source": [
    "# Store the standardized data in the following variables\n",
    "# xs_train_std = \n",
    "# ys_train_std = \n",
    "\n",
    "# xs_valid_std = \n",
    "# ys_valid_std = \n",
    "\n",
    "# xs_test_std = \n",
    "# ys_test_std = \n",
    "\n",
    "#Standardize xs_train\n",
    "xs_train_std=np.zeros(np.shape(xs_train))\n",
    "for i in range (np.size(xs_train[0,:])):\n",
    "    mean_=np.mean(xs_train[:,i])\n",
    "    std_=np.std(xs_train[:,i])\n",
    "    xs_train_std[:,i]=(xs_train[:,i]-mean_)/std_\n",
    "\n",
    "#Standardize ys_train\n",
    "ys_train_std=np.zeros(np.shape(ys_train))\n",
    "for i in range (np.size(ys_train[0,:])):\n",
    "    mean_=np.mean(ys_train[:,i])\n",
    "    std_=np.std(ys_train[:,i])\n",
    "    ys_train_std[:,i]=(ys_train[:,i]-mean_)/std_\n",
    "\n",
    "#Standardize xs_valid\n",
    "xs_valid_std=np.zeros(np.shape(xs_valid))\n",
    "for i in range (np.size(xs_valid[0,:])):\n",
    "    mean_=np.mean(xs_valid[:,i])\n",
    "    std_=np.std(xs_valid[:,i])\n",
    "    xs_valid_std[:,i]=(xs_valid[:,i]-mean_)/std_\n",
    "\n",
    "#Standardize ys_valid\n",
    "ys_valid_std=np.zeros(np.shape(ys_valid))\n",
    "for i in range (np.size(ys_valid[0,:])):\n",
    "    mean_=np.mean(ys_valid[:,i])\n",
    "    std_=np.std(ys_valid[:,i])\n",
    "    ys_valid_std[:,i]=(ys_valid[:,i]-mean_)/std_\n",
    "    \n",
    "#Standardize xs_test\n",
    "xs_test_std=np.zeros(np.shape(xs_test))\n",
    "for i in range (np.size(xs_test[0,:])):\n",
    "    mean_=np.mean(xs_test[:,i])\n",
    "    std_=np.std(xs_test[:,i])\n",
    "    xs_test_std[:,i]=(xs_test[:,i]-mean_)/std_\n",
    "\n",
    "#Standardize ys_test\n",
    "ys_test_std=np.zeros(np.shape(ys_test))\n",
    "for i in range (np.size(ys_test[0,:])):\n",
    "    mean_=np.mean(ys_test[:,i])\n",
    "    std_=np.std(ys_test[:,i])\n",
    "    ys_test_std[:,i]=(ys_test[:,i]-mean_)/std_    "
   ]
  },
  {
   "cell_type": "code",
   "execution_count": 118,
   "metadata": {},
   "outputs": [
    {
     "name": "stdout",
     "output_type": "stream",
     "text": [
      "-3.0653111423654746e-17\n",
      "6.169604219233736e-17\n",
      "-3.4987680004458014e-17\n",
      "-3.8334327657058344e-17\n",
      "-2.3119694278122473e-17\n",
      "-2.5553346307398523e-17\n",
      "[1. 1. 1. 1. 1. 1. 1. 1. 1. 1. 1. 1. 1. 1. 1. 1. 1. 1. 1. 1. 1.]\n",
      "[1. 1. 1. 1. 1. 1. 1. 1. 1. 1. 1. 1. 1. 1. 1. 1. 1. 1. 1. 1. 1.]\n",
      "[1. 1. 1. 1. 1. 1. 1. 1. 1. 1. 1. 1. 1. 1. 1. 1. 1. 1. 1. 1. 1.]\n"
     ]
    }
   ],
   "source": [
    "# Check for yourself\n",
    "# The following should lead to (roughly) six zeros and three arrays with (approximately) ones\n",
    "print(np.mean(xs_train_std))\n",
    "print(np.mean(ys_train_std))\n",
    "print(np.mean(xs_valid_std))\n",
    "print(np.mean(ys_valid_std))\n",
    "print(np.mean(xs_test_std))\n",
    "print(np.mean(ys_test_std))\n",
    "\n",
    "print(np.var(xs_train_std, axis=0))\n",
    "print(np.var(xs_valid_std, axis=0))\n",
    "print(np.var(xs_test_std, axis=0))"
   ]
  },
  {
   "cell_type": "markdown",
   "metadata": {},
   "source": [
    "__Task A.3__"
   ]
  },
  {
   "cell_type": "code",
   "execution_count": 120,
   "metadata": {},
   "outputs": [],
   "source": [
    "# Task A.3.a\n",
    "# Implement a function estimating the variance\n",
    "def my_variance(xs):\n",
    "    \"\"\"Calculate the empirical variance of a given vector of scalars\n",
    "    \n",
    "    Arguments\n",
    "    xs      1d numpy array\n",
    "    \n",
    "    Returns\n",
    "    The empirical variance of the provided vector\n",
    "    \"\"\"\n",
    "    # Your implementation\n",
    "    \n",
    "    N=np.size(xs)\n",
    "    xs_mean= sum(xs)/N\n",
    "    temp=0\n",
    "    for i in range(N):\n",
    "        temp+=(xs[i]-xs_mean)**2\n",
    "    variance=temp/(N-1)\n",
    "    \n",
    "    return variance"
   ]
  },
  {
   "cell_type": "code",
   "execution_count": 122,
   "metadata": {},
   "outputs": [
    {
     "name": "stdout",
     "output_type": "stream",
     "text": [
      "[1.0000281]\n",
      "[1.00022482]\n"
     ]
    }
   ],
   "source": [
    "# Task A.3.b\n",
    "# Calculate the variance of ys_train_std using your function my_variance\n",
    "var_ys_train = my_variance(ys_train_std)\n",
    "print(var_ys_train)\n",
    "\n",
    "var_ys_test = my_variance(ys_test_std)\n",
    "print(var_ys_test)"
   ]
  },
  {
   "cell_type": "code",
   "execution_count": 123,
   "metadata": {},
   "outputs": [],
   "source": [
    "# Task A.3.c\n",
    "# Implement a function calculating the SMSE between two 1d numpy arrays given a normalizing factor\n",
    "def my_smse(z1, z2, s):\n",
    "    \"\"\"Calculate the Standardized Mean Squared Error (SMSE)\n",
    "    \n",
    "    Arguments\n",
    "    z1      1d numpy array (usually the predictions)\n",
    "    z2      1d numpy array (usually the test data)\n",
    "    s       Normalization factor (usually the variance of the test data)\n",
    "    \n",
    "    Returns\n",
    "    The SMSE of the provided data\n",
    "    \n",
    "    # Your implementation\n",
    "    \"\"\"\n",
    "    smse=np.sum(((z1-z2)**2))/(np.size(z1)*s)\n",
    "    \n",
    "    return smse"
   ]
  },
  {
   "cell_type": "markdown",
   "metadata": {},
   "source": [
    "## Linear regression\n",
    "### Simple linear regression\n",
    "__Task A.4__"
   ]
  },
  {
   "cell_type": "code",
   "execution_count": 124,
   "metadata": {},
   "outputs": [
    {
     "name": "stdout",
     "output_type": "stream",
     "text": [
      "[0.07084947]\n"
     ]
    }
   ],
   "source": [
    "# This variable should contain the weights corresponding to simple linear regression (LS criterion, no bias term)\n",
    "w_lr = np.linalg.pinv(xs_train_std) @ ys_train_std\n",
    "\n",
    "# This variable should contain the predictions using w_lr on the validation data\n",
    "ys_pred_valid = xs_valid_std @ w_lr\n",
    "\n",
    "# This should contain the resulting smse\n",
    "smse_lr = my_smse(ys_pred_valid, ys_valid_std, var_ys_train)\n",
    "\n",
    "print(smse_lr)"
   ]
  },
  {
   "cell_type": "markdown",
   "metadata": {},
   "source": [
    "### Linear regression with polynomial features\n",
    "__Task A.5__"
   ]
  },
  {
   "cell_type": "code",
   "execution_count": 125,
   "metadata": {},
   "outputs": [],
   "source": [
    "# Task A.5.a\n",
    "def my_poly_features(X, degree):\n",
    "    \"\"\"Generates polynomial features from given data\n",
    "    \n",
    "    The polynomial features should include monomials (i.e., x_i, x_i**2 etc)\n",
    "    and interaction terms (x_1*x_2 etc), but no repetitions.\n",
    "    The order of the samples should not be changed through the transformation.\n",
    "    \n",
    "    Arguments\n",
    "    xs      2d numpy array of shape (N,D) containing N samples of dimension D\n",
    "    degree  Maximum degree of polynomials to be considered\n",
    "    \n",
    "    Returns\n",
    "    An (N,M) numpy array containing the transformed input\n",
    "    \"\"\"\n",
    "    # Your implementation\n",
    "\n",
    "    features = X\n",
    "    prev_chunk = X\n",
    "    indices = np.arange(len(X))\n",
    "    for d in range(1, degree):\n",
    "        new_chunk = []      \n",
    "        for i, v in enumerate(X):\n",
    "            next_index = len(new_chunk)\n",
    "            for coef in prev_chunk[indices[i]:]:\n",
    "                new_chunk.append( v+coef)\n",
    "            indices[i] = next_index\n",
    "        features = np.append(features, new_chunk)\n",
    "        prev_chunk = new_chunk    \n",
    "    features = np.insert( features, 0, 1 )\n",
    "    features = np.reshape(features,(np.shape(features)[0],1))\n",
    "    return features.T"
   ]
  },
  {
   "cell_type": "code",
   "execution_count": 13,
   "metadata": {},
   "outputs": [
    {
     "name": "stdout",
     "output_type": "stream",
     "text": [
      "(253, 1) (2024, 1)\n",
      "(1000, 253) (1000, 2024)\n",
      "[0.05781831] [0.05781831]\n"
     ]
    }
   ],
   "source": [
    "# Tasks A.5.b\n",
    "################################################################################\n",
    "xs_train_std_feature_poly2=np.empty(np.shape(my_poly_features(xs_train_std[0,:], 2)))\n",
    "for i in range(np.shape(xs_train_std)[0]):\n",
    "    xs_train_std_feature_poly2 = np.append(xs_train_std_feature_poly2,my_poly_features(xs_train_std[i,:], 2),axis=0)\n",
    "xs_train_std_feature_poly2=xs_train_std_feature_poly2[1:]\n",
    "\n",
    "xs_valid_std_feature_poly2=np.zeros(np.shape(my_poly_features(xs_valid_std[0,:], 2)))\n",
    "for i in range(np.shape(xs_valid_std)[0]):\n",
    "    xs_valid_std_feature_poly2 = np.append(xs_valid_std_feature_poly2,my_poly_features(xs_valid_std[i,:], 2),axis=0)    \n",
    "xs_valid_std_feature_poly2=xs_valid_std_feature_poly2[1:]\n",
    "#################################################################################\n",
    "xs_train_std_feature_poly3=np.empty(np.shape(my_poly_features(xs_train_std[0,:], 3)))\n",
    "for i in range(np.shape(xs_train_std)[0]):\n",
    "    xs_train_std_feature_poly3 = np.append(xs_train_std_feature_poly3,my_poly_features(xs_train_std[i,:], 3),axis=0)\n",
    "xs_train_std_feature_poly3=xs_train_std_feature_poly3[1:]\n",
    "\n",
    "xs_valid_std_feature_poly3=np.zeros(np.shape(my_poly_features(xs_valid_std[0,:], 3)))\n",
    "for i in range(np.shape(xs_valid_std)[0]):\n",
    "    xs_valid_std_feature_poly3 = np.append(xs_valid_std_feature_poly3,my_poly_features(xs_valid_std[i,:], 3),axis=0)    \n",
    "xs_valid_std_feature_poly3=xs_valid_std_feature_poly3[1:]\n",
    "#################################################################################\n",
    "# This variable should contain the weights corresponding to linear regression using polynomial features up to degree 2 and 3\n",
    "w_poly2 = (np.linalg.pinv(xs_train_std_feature_poly2)) @ (ys_train_std)\n",
    "w_poly3 = (np.linalg.pinv(xs_train_std_feature_poly3)) @ (ys_train_std)\n",
    "#print(np.shape(w_poly2),np.shape(w_poly3))\n",
    "#################################################################################\n",
    "# This variable should contain the predictions using w_poly2 and w_poly3 on the validation data\n",
    "\n",
    "#print(np.shape(xs_valid_std_feature_poly2),np.shape(xs_valid_std_feature_poly3))\n",
    "ys_pred_poly2_valid = xs_valid_std_feature_poly2 @ w_poly2\n",
    "ys_pred_poly3_valid = xs_valid_std_feature_poly3 @ w_poly3\n",
    "#################################################################################\n",
    "# This should contain the resulting smse\n",
    "smse_poly2 = my_smse(ys_pred_poly2_valid, ys_valid_std, var_ys_train)\n",
    "smse_poly3 = my_smse(ys_pred_poly3_valid, ys_valid_std, var_ys_train)\n",
    "#################################################################################\n",
    "print(smse_poly2,smse_poly3)"
   ]
  },
  {
   "cell_type": "markdown",
   "metadata": {},
   "source": [
    "## Clustering\n",
    "__Task B.1__ Implement the basic $K$-Means algorithm."
   ]
  },
  {
   "cell_type": "code",
   "execution_count": 128,
   "metadata": {},
   "outputs": [],
   "source": [
    "def my_kmeans(xs, init_centers, n_iter=100):\n",
    "    \"\"\"Runs the K-Means algorithm from a given initialization\n",
    "    \n",
    "    Arguments\n",
    "    xs            2d numpy array of shape (N,D) containing N samples of dimension D\n",
    "    init_centers  2d numpy array of shape (K,D) containing the initial cluster centers\n",
    "    n_iter        Number of iterations of the K-Means algorithm\n",
    "    \n",
    "    Returns\n",
    "    An (K,D) numpy array containing the final cluster centers\n",
    "    \"\"\"\n",
    "    # Your implementation\n",
    "       \n",
    "    N,D=np.shape(xs)\n",
    "    K=np.shape(init_centers)[0]\n",
    "    distanceMatrix=np.zeros((N,K))\n",
    "    clusteredMatrix=np.zeros((N,D,K))\n",
    "    \n",
    "    for i in range(N):\n",
    "        for k in range(K):\n",
    "            distanceMatrix[i,k]=np.linalg.norm(xs[i,:]-init_centers[k,:])\n",
    "        ind = np.argmin(distanceMatrix[i,:])\n",
    "        clusteredMatrix[i,:,ind]=xs[i,:]\n",
    "    for k in range(K):\n",
    "        for d in range(D):\n",
    "            init_centers[k,d]=np.sum(clusteredMatrix[:,d,k])/np.count_nonzero(clusteredMatrix[:,d,k])\n",
    "    return init_centers\n",
    "    "
   ]
  },
  {
   "cell_type": "markdown",
   "metadata": {},
   "source": [
    "__Task B.2__ Generate test data set and plot it."
   ]
  },
  {
   "cell_type": "code",
   "execution_count": 130,
   "metadata": {},
   "outputs": [
    {
     "data": {
      "image/png": "[encoded data removed]",
      "text/plain": [
       "<Figure size 432x288 with 1 Axes>"
      ]
     },
     "metadata": {
      "needs_background": "light"
     },
     "output_type": "display_data"
    }
   ],
   "source": [
    "# Test data of shape (100,2)\n",
    "# xs_cluster_test =\n",
    "\n",
    "d=2 #Test Data Dimesions\n",
    "N=1000 #Number of Data Points\n",
    "\n",
    "probability=np.array([0.3, 0.2, 0.4, 0.1]) #Probabilitis of Random Distribution Selection\n",
    "\n",
    "nd_array=np.arange(4)\n",
    "mean1=(-2,2)\n",
    "mean2=(-2,-2)\n",
    "mean3=(2,-2)\n",
    "mean4=(2,2)\n",
    "cov1=0.2*np.eye(1)\n",
    "cov2=0.2*np.eye(1)\n",
    "cov3=0.5*np.eye(1)\n",
    "cov4=0.5*np.eye(1)\n",
    "xs_cluster_test=np.zeros((N,d))\n",
    "\n",
    "for n in range(N):\n",
    "    nd_select=np.random.choice(nd_array,1,replace=True,p=probability)\n",
    "    if (nd_select==0):\n",
    "        xs_cluster_test[n,:]=np.random.normal(mean1,cov1)\n",
    "    elif (nd_select==1):\n",
    "        xs_cluster_test[n,:]=np.random.normal(mean2,cov2)\n",
    "    elif (nd_select==2):\n",
    "        xs_cluster_test[n,:]=np.random.normal(mean3,cov3)\n",
    "    elif (nd_select==3):\n",
    "        xs_cluster_test[n,:]=np.random.normal(mean4,cov4)\n",
    "\n",
    "plt.scatter(xs_cluster_test[:,0], xs_cluster_test[:,1])\n",
    "plt.show()\n",
    "\n",
    "            "
   ]
  },
  {
   "cell_type": "markdown",
   "metadata": {},
   "source": [
    "__Task B.3__ Run your $K$-Means algorithm on the test data for $K=2,3,4,5$ clusters and plot the final cluster centers."
   ]
  },
  {
   "cell_type": "code",
   "execution_count": 131,
   "metadata": {},
   "outputs": [
    {
     "data": {
      "image/png": "[encoded data removed]",
      "text/plain": [
       "<Figure size 432x288 with 1 Axes>"
      ]
     },
     "metadata": {
      "needs_background": "light"
     },
     "output_type": "display_data"
    },
    {
     "data": {
      "image/png": "[encoded data removed]",
      "text/plain": [
       "<Figure size 432x288 with 1 Axes>"
      ]
     },
     "metadata": {
      "needs_background": "light"
     },
     "output_type": "display_data"
    },
    {
     "data": {
      "image/png": "[encoded data removed]",
      "text/plain": [
       "<Figure size 432x288 with 1 Axes>"
      ]
     },
     "metadata": {
      "needs_background": "light"
     },
     "output_type": "display_data"
    },
    {
     "data": {
      "image/png": "[encoded data removed]",
      "text/plain": [
       "<Figure size 432x288 with 1 Axes>"
      ]
     },
     "metadata": {
      "needs_background": "light"
     },
     "output_type": "display_data"
    }
   ],
   "source": [
    "# Use kmeans_plusplus(xs_cluster_test, K, random_state=0) for initialization\n",
    "N_Clusters=6\n",
    "\n",
    "for n_clusters in range(2,N_Clusters):\n",
    "    n_iter=100\n",
    "    centers,indices=kmeans_plusplus(xs_cluster_test, n_clusters, random_state=0)\n",
    "    newcenters=my_kmeans(xs_cluster_test, centers, n_iter)\n",
    "\n",
    "    plt.scatter(xs_cluster_test[:,0], xs_cluster_test[:,1])\n",
    "    plt.scatter(newcenters[:,0], newcenters[:,1],color='red')\n",
    "    plt.show()\n"
   ]
  },
  {
   "cell_type": "markdown",
   "metadata": {},
   "source": [
    "## Radial Basis Function Network\n",
    "__Task C.1__ Find $K=100$ cluster centers using $K$-Means."
   ]
  },
  {
   "cell_type": "code",
   "execution_count": 96,
   "metadata": {},
   "outputs": [],
   "source": [
    "# This 100x21 numpy array should contain the cluster centers\n",
    "def KMEANS(data,n_clusters):\n",
    "    \n",
    "    kmeans = KMeans(n_clusters, init='k-means++', random_state=0).fit(data)\n",
    "    xs_centers = kmeans.cluster_centers_\n",
    "    \n",
    "    return kmeans.cluster_centers_,kmeans.labels_\n"
   ]
  },
  {
   "cell_type": "markdown",
   "metadata": {},
   "source": [
    "__Task C.2__ Implement the Gaussian basis functions and transform the data accordingly"
   ]
  },
  {
   "cell_type": "code",
   "execution_count": 137,
   "metadata": {},
   "outputs": [],
   "source": [
    "def gauss_transform(data):\n",
    "    sigma=25.0\n",
    "    N,D=np.shape(data)\n",
    "    cluster_means,cluster_labels=KMEANS(data,100)\n",
    "    numberOfClusters=np.shape(cluster_means)[0]\n",
    "    convertedData=np.zeros((N,numberOfClusters))\n",
    "    for cluster in range(numberOfClusters):\n",
    "        for i in range(N):\n",
    "            #r=np.linalg.norm(data[i,:]-cluster_means[cluster_labels[i]])\n",
    "            r=np.linalg.norm(data[i,:]-cluster_means[cluster])\n",
    "            temp = (1/np.sqrt(2*np.pi*(sigma**2)))*(np.exp(-r**2/(2*sigma**2)))\n",
    "            convertedData[i,cluster]=temp\n",
    "    return convertedData"
   ]
  },
  {
   "cell_type": "markdown",
   "metadata": {},
   "source": [
    "__Task C.3__ Run simple linear regression on the transformed data and evaluate it on the test set"
   ]
  },
  {
   "cell_type": "code",
   "execution_count": 138,
   "metadata": {},
   "outputs": [
    {
     "ename": "KeyboardInterrupt",
     "evalue": "",
     "output_type": "error",
     "traceback": [
      "\u001b[0;31m---------------------------------------------------------------------------\u001b[0m",
      "\u001b[0;31mKeyboardInterrupt\u001b[0m                         Traceback (most recent call last)",
      "\u001b[0;32m<ipython-input-138-f145efda3116>\u001b[0m in \u001b[0;36m<module>\u001b[0;34m\u001b[0m\n\u001b[0;32m----> 1\u001b[0;31m \u001b[0mxs_train_gauss_temp\u001b[0m\u001b[0;34m=\u001b[0m\u001b[0mgauss_transform\u001b[0m\u001b[0;34m(\u001b[0m\u001b[0mxs_train_std\u001b[0m\u001b[0;34m)\u001b[0m\u001b[0;34m\u001b[0m\u001b[0;34m\u001b[0m\u001b[0m\n\u001b[0m\u001b[1;32m      2\u001b[0m \u001b[0mxs_train_gauss\u001b[0m\u001b[0;34m=\u001b[0m\u001b[0mnp\u001b[0m\u001b[0;34m.\u001b[0m\u001b[0minsert\u001b[0m\u001b[0;34m(\u001b[0m\u001b[0mxs_train_gauss_temp\u001b[0m\u001b[0;34m,\u001b[0m\u001b[0;36m0\u001b[0m\u001b[0;34m,\u001b[0m\u001b[0;36m1\u001b[0m\u001b[0;34m,\u001b[0m\u001b[0maxis\u001b[0m\u001b[0;34m=\u001b[0m\u001b[0;36m1\u001b[0m\u001b[0;34m)\u001b[0m\u001b[0;34m\u001b[0m\u001b[0;34m\u001b[0m\u001b[0m\n\u001b[1;32m      3\u001b[0m \u001b[0;34m\u001b[0m\u001b[0m\n\u001b[1;32m      4\u001b[0m \u001b[0mxs_valid_gauss_temp\u001b[0m\u001b[0;34m=\u001b[0m\u001b[0mgauss_transform\u001b[0m\u001b[0;34m(\u001b[0m\u001b[0mxs_valid_std\u001b[0m\u001b[0;34m)\u001b[0m\u001b[0;34m\u001b[0m\u001b[0;34m\u001b[0m\u001b[0m\n\u001b[1;32m      5\u001b[0m \u001b[0mxs_valid_gauss\u001b[0m\u001b[0;34m=\u001b[0m\u001b[0mnp\u001b[0m\u001b[0;34m.\u001b[0m\u001b[0minsert\u001b[0m\u001b[0;34m(\u001b[0m\u001b[0mxs_valid_gauss_temp\u001b[0m\u001b[0;34m,\u001b[0m\u001b[0;36m0\u001b[0m\u001b[0;34m,\u001b[0m\u001b[0;36m1\u001b[0m\u001b[0;34m,\u001b[0m\u001b[0maxis\u001b[0m\u001b[0;34m=\u001b[0m\u001b[0;36m1\u001b[0m\u001b[0;34m)\u001b[0m\u001b[0;34m\u001b[0m\u001b[0;34m\u001b[0m\u001b[0m\n",
      "\u001b[0;32m<ipython-input-137-95097b84b2d6>\u001b[0m in \u001b[0;36mgauss_transform\u001b[0;34m(data)\u001b[0m\n\u001b[1;32m      2\u001b[0m     \u001b[0msigma\u001b[0m\u001b[0;34m=\u001b[0m\u001b[0;36m25.0\u001b[0m\u001b[0;34m\u001b[0m\u001b[0;34m\u001b[0m\u001b[0m\n\u001b[1;32m      3\u001b[0m     \u001b[0mN\u001b[0m\u001b[0;34m,\u001b[0m\u001b[0mD\u001b[0m\u001b[0;34m=\u001b[0m\u001b[0mnp\u001b[0m\u001b[0;34m.\u001b[0m\u001b[0mshape\u001b[0m\u001b[0;34m(\u001b[0m\u001b[0mdata\u001b[0m\u001b[0;34m)\u001b[0m\u001b[0;34m\u001b[0m\u001b[0;34m\u001b[0m\u001b[0m\n\u001b[0;32m----> 4\u001b[0;31m     \u001b[0mcluster_means\u001b[0m\u001b[0;34m,\u001b[0m\u001b[0mcluster_labels\u001b[0m\u001b[0;34m=\u001b[0m\u001b[0mKMEANS\u001b[0m\u001b[0;34m(\u001b[0m\u001b[0mdata\u001b[0m\u001b[0;34m,\u001b[0m\u001b[0;36m100\u001b[0m\u001b[0;34m)\u001b[0m\u001b[0;34m\u001b[0m\u001b[0;34m\u001b[0m\u001b[0m\n\u001b[0m\u001b[1;32m      5\u001b[0m     \u001b[0mnumberOfClusters\u001b[0m\u001b[0;34m=\u001b[0m\u001b[0mnp\u001b[0m\u001b[0;34m.\u001b[0m\u001b[0mshape\u001b[0m\u001b[0;34m(\u001b[0m\u001b[0mcluster_means\u001b[0m\u001b[0;34m)\u001b[0m\u001b[0;34m[\u001b[0m\u001b[0;36m0\u001b[0m\u001b[0;34m]\u001b[0m\u001b[0;34m\u001b[0m\u001b[0;34m\u001b[0m\u001b[0m\n\u001b[1;32m      6\u001b[0m     \u001b[0mconvertedData\u001b[0m\u001b[0;34m=\u001b[0m\u001b[0mnp\u001b[0m\u001b[0;34m.\u001b[0m\u001b[0mzeros\u001b[0m\u001b[0;34m(\u001b[0m\u001b[0;34m(\u001b[0m\u001b[0mN\u001b[0m\u001b[0;34m,\u001b[0m\u001b[0mnumberOfClusters\u001b[0m\u001b[0;34m)\u001b[0m\u001b[0;34m)\u001b[0m\u001b[0;34m\u001b[0m\u001b[0;34m\u001b[0m\u001b[0m\n",
      "\u001b[0;32m<ipython-input-96-007d93ae4dcf>\u001b[0m in \u001b[0;36mKMEANS\u001b[0;34m(data, n_clusters)\u001b[0m\n\u001b[1;32m      1\u001b[0m \u001b[0;32mdef\u001b[0m \u001b[0mKMEANS\u001b[0m\u001b[0;34m(\u001b[0m\u001b[0mdata\u001b[0m\u001b[0;34m,\u001b[0m\u001b[0mn_clusters\u001b[0m\u001b[0;34m)\u001b[0m\u001b[0;34m:\u001b[0m\u001b[0;34m\u001b[0m\u001b[0;34m\u001b[0m\u001b[0m\n\u001b[0;32m----> 2\u001b[0;31m     \u001b[0mkmeans\u001b[0m \u001b[0;34m=\u001b[0m \u001b[0mKMeans\u001b[0m\u001b[0;34m(\u001b[0m\u001b[0mn_clusters\u001b[0m\u001b[0;34m,\u001b[0m \u001b[0minit\u001b[0m\u001b[0;34m=\u001b[0m\u001b[0;34m'k-means++'\u001b[0m\u001b[0;34m,\u001b[0m \u001b[0mrandom_state\u001b[0m\u001b[0;34m=\u001b[0m\u001b[0;36m0\u001b[0m\u001b[0;34m)\u001b[0m\u001b[0;34m.\u001b[0m\u001b[0mfit\u001b[0m\u001b[0;34m(\u001b[0m\u001b[0mdata\u001b[0m\u001b[0;34m)\u001b[0m\u001b[0;34m\u001b[0m\u001b[0;34m\u001b[0m\u001b[0m\n\u001b[0m\u001b[1;32m      3\u001b[0m \u001b[0;34m\u001b[0m\u001b[0m\n\u001b[1;32m      4\u001b[0m     \u001b[0;31m# This 100x21 numpy array should contain the cluster centers\u001b[0m\u001b[0;34m\u001b[0m\u001b[0;34m\u001b[0m\u001b[0;34m\u001b[0m\u001b[0m\n\u001b[1;32m      5\u001b[0m     \u001b[0;31m#xs_centers = kmeans.cluster_centers_\u001b[0m\u001b[0;34m\u001b[0m\u001b[0;34m\u001b[0m\u001b[0;34m\u001b[0m\u001b[0m\n",
      "\u001b[0;32m/opt/conda/lib/python3.7/site-packages/sklearn/cluster/_kmeans.py\u001b[0m in \u001b[0;36mfit\u001b[0;34m(self, X, y, sample_weight)\u001b[0m\n\u001b[1;32m   1181\u001b[0m             \u001b[0;31m# Initialize centers\u001b[0m\u001b[0;34m\u001b[0m\u001b[0;34m\u001b[0m\u001b[0;34m\u001b[0m\u001b[0m\n\u001b[1;32m   1182\u001b[0m             centers_init = self._init_centroids(\n\u001b[0;32m-> 1183\u001b[0;31m                 \u001b[0mX\u001b[0m\u001b[0;34m,\u001b[0m \u001b[0mx_squared_norms\u001b[0m\u001b[0;34m=\u001b[0m\u001b[0mx_squared_norms\u001b[0m\u001b[0;34m,\u001b[0m \u001b[0minit\u001b[0m\u001b[0;34m=\u001b[0m\u001b[0minit\u001b[0m\u001b[0;34m,\u001b[0m \u001b[0mrandom_state\u001b[0m\u001b[0;34m=\u001b[0m\u001b[0mrandom_state\u001b[0m\u001b[0;34m\u001b[0m\u001b[0;34m\u001b[0m\u001b[0m\n\u001b[0m\u001b[1;32m   1184\u001b[0m             )\n\u001b[1;32m   1185\u001b[0m             \u001b[0;32mif\u001b[0m \u001b[0mself\u001b[0m\u001b[0;34m.\u001b[0m\u001b[0mverbose\u001b[0m\u001b[0;34m:\u001b[0m\u001b[0;34m\u001b[0m\u001b[0;34m\u001b[0m\u001b[0m\n",
      "\u001b[0;32m/opt/conda/lib/python3.7/site-packages/sklearn/cluster/_kmeans.py\u001b[0m in \u001b[0;36m_init_centroids\u001b[0;34m(self, X, x_squared_norms, init, random_state, init_size)\u001b[0m\n\u001b[1;32m   1095\u001b[0m                 \u001b[0mn_clusters\u001b[0m\u001b[0;34m,\u001b[0m\u001b[0;34m\u001b[0m\u001b[0;34m\u001b[0m\u001b[0m\n\u001b[1;32m   1096\u001b[0m                 \u001b[0mrandom_state\u001b[0m\u001b[0;34m=\u001b[0m\u001b[0mrandom_state\u001b[0m\u001b[0;34m,\u001b[0m\u001b[0;34m\u001b[0m\u001b[0;34m\u001b[0m\u001b[0m\n\u001b[0;32m-> 1097\u001b[0;31m                 \u001b[0mx_squared_norms\u001b[0m\u001b[0;34m=\u001b[0m\u001b[0mx_squared_norms\u001b[0m\u001b[0;34m,\u001b[0m\u001b[0;34m\u001b[0m\u001b[0;34m\u001b[0m\u001b[0m\n\u001b[0m\u001b[1;32m   1098\u001b[0m             )\n\u001b[1;32m   1099\u001b[0m         \u001b[0;32melif\u001b[0m \u001b[0misinstance\u001b[0m\u001b[0;34m(\u001b[0m\u001b[0minit\u001b[0m\u001b[0;34m,\u001b[0m \u001b[0mstr\u001b[0m\u001b[0;34m)\u001b[0m \u001b[0;32mand\u001b[0m \u001b[0minit\u001b[0m \u001b[0;34m==\u001b[0m \u001b[0;34m\"random\"\u001b[0m\u001b[0;34m:\u001b[0m\u001b[0;34m\u001b[0m\u001b[0;34m\u001b[0m\u001b[0m\n",
      "\u001b[0;32m/opt/conda/lib/python3.7/site-packages/sklearn/cluster/_kmeans.py\u001b[0m in \u001b[0;36m_kmeans_plusplus\u001b[0;34m(X, n_clusters, x_squared_norms, random_state, n_local_trials)\u001b[0m\n\u001b[1;32m    217\u001b[0m         \u001b[0;31m# Compute distances to center candidates\u001b[0m\u001b[0;34m\u001b[0m\u001b[0;34m\u001b[0m\u001b[0;34m\u001b[0m\u001b[0m\n\u001b[1;32m    218\u001b[0m         distance_to_candidates = _euclidean_distances(\n\u001b[0;32m--> 219\u001b[0;31m             \u001b[0mX\u001b[0m\u001b[0;34m[\u001b[0m\u001b[0mcandidate_ids\u001b[0m\u001b[0;34m]\u001b[0m\u001b[0;34m,\u001b[0m \u001b[0mX\u001b[0m\u001b[0;34m,\u001b[0m \u001b[0mY_norm_squared\u001b[0m\u001b[0;34m=\u001b[0m\u001b[0mx_squared_norms\u001b[0m\u001b[0;34m,\u001b[0m \u001b[0msquared\u001b[0m\u001b[0;34m=\u001b[0m\u001b[0;32mTrue\u001b[0m\u001b[0;34m\u001b[0m\u001b[0;34m\u001b[0m\u001b[0m\n\u001b[0m\u001b[1;32m    220\u001b[0m         )\n\u001b[1;32m    221\u001b[0m \u001b[0;34m\u001b[0m\u001b[0m\n",
      "\u001b[0;32m/opt/conda/lib/python3.7/site-packages/sklearn/metrics/pairwise.py\u001b[0m in \u001b[0;36m_euclidean_distances\u001b[0;34m(X, Y, X_norm_squared, Y_norm_squared, squared)\u001b[0m\n\u001b[1;32m    366\u001b[0m     \u001b[0;32melse\u001b[0m\u001b[0;34m:\u001b[0m\u001b[0;34m\u001b[0m\u001b[0;34m\u001b[0m\u001b[0m\n\u001b[1;32m    367\u001b[0m         \u001b[0;31m# if dtype is already float64, no need to chunk and upcast\u001b[0m\u001b[0;34m\u001b[0m\u001b[0;34m\u001b[0m\u001b[0;34m\u001b[0m\u001b[0m\n\u001b[0;32m--> 368\u001b[0;31m         \u001b[0mdistances\u001b[0m \u001b[0;34m=\u001b[0m \u001b[0;34m-\u001b[0m\u001b[0;36m2\u001b[0m \u001b[0;34m*\u001b[0m \u001b[0msafe_sparse_dot\u001b[0m\u001b[0;34m(\u001b[0m\u001b[0mX\u001b[0m\u001b[0;34m,\u001b[0m \u001b[0mY\u001b[0m\u001b[0;34m.\u001b[0m\u001b[0mT\u001b[0m\u001b[0;34m,\u001b[0m \u001b[0mdense_output\u001b[0m\u001b[0;34m=\u001b[0m\u001b[0;32mTrue\u001b[0m\u001b[0;34m)\u001b[0m\u001b[0;34m\u001b[0m\u001b[0;34m\u001b[0m\u001b[0m\n\u001b[0m\u001b[1;32m    369\u001b[0m         \u001b[0mdistances\u001b[0m \u001b[0;34m+=\u001b[0m \u001b[0mXX\u001b[0m\u001b[0;34m\u001b[0m\u001b[0;34m\u001b[0m\u001b[0m\n\u001b[1;32m    370\u001b[0m         \u001b[0mdistances\u001b[0m \u001b[0;34m+=\u001b[0m \u001b[0mYY\u001b[0m\u001b[0;34m\u001b[0m\u001b[0;34m\u001b[0m\u001b[0m\n",
      "\u001b[0;32m/opt/conda/lib/python3.7/site-packages/sklearn/utils/extmath.py\u001b[0m in \u001b[0;36msafe_sparse_dot\u001b[0;34m(a, b, dense_output)\u001b[0m\n\u001b[1;32m    151\u001b[0m             \u001b[0mret\u001b[0m \u001b[0;34m=\u001b[0m \u001b[0mnp\u001b[0m\u001b[0;34m.\u001b[0m\u001b[0mdot\u001b[0m\u001b[0;34m(\u001b[0m\u001b[0ma\u001b[0m\u001b[0;34m,\u001b[0m \u001b[0mb\u001b[0m\u001b[0;34m)\u001b[0m\u001b[0;34m\u001b[0m\u001b[0;34m\u001b[0m\u001b[0m\n\u001b[1;32m    152\u001b[0m     \u001b[0;32melse\u001b[0m\u001b[0;34m:\u001b[0m\u001b[0;34m\u001b[0m\u001b[0;34m\u001b[0m\u001b[0m\n\u001b[0;32m--> 153\u001b[0;31m         \u001b[0mret\u001b[0m \u001b[0;34m=\u001b[0m \u001b[0ma\u001b[0m \u001b[0;34m@\u001b[0m \u001b[0mb\u001b[0m\u001b[0;34m\u001b[0m\u001b[0;34m\u001b[0m\u001b[0m\n\u001b[0m\u001b[1;32m    154\u001b[0m \u001b[0;34m\u001b[0m\u001b[0m\n\u001b[1;32m    155\u001b[0m     if (\n",
      "\u001b[0;31mKeyboardInterrupt\u001b[0m: "
     ]
    }
   ],
   "source": [
    "xs_train_gauss_temp=gauss_transform(xs_train_std)\n",
    "xs_train_gauss=np.insert(xs_train_gauss_temp,0,1,axis=1)\n",
    "\n",
    "xs_valid_gauss_temp=gauss_transform(xs_valid_std)\n",
    "xs_valid_gauss=np.insert(xs_valid_gauss_temp,0,1,axis=1)\n",
    "\n",
    "w_lr_gauss = np.linalg.pinv(xs_train_gauss) @ ys_train_std\n",
    "\n",
    "# This should contain the resulting predictions on the validation data set\n",
    "ys_pred_gauss_valid = xs_valid_gauss @ w_lr_gauss\n",
    "\n",
    "# This should contain the corresponding SMSE\n",
    "smse_gauss = my_smse(ys_pred_gauss_valid, ys_valid_std, var_ys_train)\n",
    "\n",
    "print(smse_gauss)"
   ]
  },
  {
   "cell_type": "markdown",
   "metadata": {},
   "source": [
    "__Open task__ Can you improve the performance of the RBF network?"
   ]
  },
  {
   "cell_type": "code",
   "execution_count": null,
   "metadata": {},
   "outputs": [],
   "source": []
  },
  {
   "cell_type": "markdown",
   "metadata": {},
   "source": [
    "__Task C.4__ Evaluate your final model (either the one from Task C.3 or your improved model from the open task) on the test data"
   ]
  },
  {
   "cell_type": "code",
   "execution_count": 139,
   "metadata": {},
   "outputs": [
    {
     "name": "stdout",
     "output_type": "stream",
     "text": [
      "[[0.01539275 0.01577144 0.0154238  ... 0.01547149 0.01539855 0.01574574]\n",
      " [0.01577433 0.01559665 0.01558959 ... 0.01569118 0.01535453 0.01547231]\n",
      " [0.01590451 0.01540818 0.01567125 ... 0.01572479 0.01517591 0.01549236]\n",
      " ...\n",
      " [0.01542299 0.01582059 0.01538916 ... 0.01544233 0.01553048 0.01570292]\n",
      " [0.01561887 0.01541547 0.01542735 ... 0.01550048 0.01524962 0.01532184]\n",
      " [0.0154563  0.01496101 0.01519517 ... 0.01524339 0.01508477 0.01476839]]\n",
      "[212007.89184575]\n"
     ]
    }
   ],
   "source": [
    "xs_test_gauss=gauss_transform(xs_test_std)\n",
    "xs_test_gauss=np.insert(xs_test_gauss,0,1,axis=1)\n",
    "\n",
    "# This should contain the resulting predictions on the test data set\n",
    "\n",
    "ys_pred_gauss_test = xs_test_gauss @ w_lr_gauss\n",
    "\n",
    "# This should contain the corresponding SMSE on the test data\n",
    "smse_gauss_test = my_smse(ys_pred_gauss_test, ys_test_std, var_ys_train)\n",
    "\n",
    "print(smse_gauss_test)"
   ]
  },
  {
   "cell_type": "code",
   "execution_count": null,
   "metadata": {},
   "outputs": [],
   "source": []
  }
 ],
 "metadata": {
  "kernelspec": {
   "display_name": "Python 3",
   "language": "python",
   "name": "python3"
  },
  "language_info": {
   "codemirror_mode": {
    "name": "ipython",
    "version": 3
   },
   "file_extension": ".py",
   "mimetype": "text/x-python",
   "name": "python",
   "nbconvert_exporter": "python",
   "pygments_lexer": "ipython3",
   "version": "3.7.8"
  }
 },
 "nbformat": 4,
 "nbformat_minor": 5
}
